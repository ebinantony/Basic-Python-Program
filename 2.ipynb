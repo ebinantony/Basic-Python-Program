{
 "cells": [
  {
   "cell_type": "markdown",
   "id": "0b6780d6",
   "metadata": {},
   "source": [
    "## Print pattern"
   ]
  },
  {
   "cell_type": "code",
   "execution_count": 1,
   "id": "321565de",
   "metadata": {},
   "outputs": [
    {
     "name": "stdout",
     "output_type": "stream",
     "text": [
      "\n",
      "\n",
      "1 \n",
      "\n",
      "2 2 \n",
      "\n",
      "3 3 3 \n",
      "\n",
      "4 4 4 4 \n",
      "\n",
      "5 5 5 5 5 \n",
      "\n",
      "6 6 6 6 6 6 \n",
      "\n",
      "7 7 7 7 7 7 7 \n",
      "\n",
      "8 8 8 8 8 8 8 8 \n",
      "\n",
      "9 9 9 9 9 9 9 9 9 \n",
      "\n"
     ]
    }
   ],
   "source": [
    "for num in range(10):\n",
    "    for i in range(num):\n",
    "        print (num, end=\" \") #print number\n",
    "    # new line after each row to display pattern correctly\n",
    "    print(\"\\n\")"
   ]
  },
  {
   "cell_type": "markdown",
   "id": "6ac44a55",
   "metadata": {},
   "source": [
    "### Check Palindrome Number"
   ]
  },
  {
   "cell_type": "code",
   "execution_count": 2,
   "id": "c86d4cc0",
   "metadata": {},
   "outputs": [
    {
     "name": "stdout",
     "output_type": "stream",
     "text": [
      "Enter a Number: 10\n",
      "original number 10\n",
      "Given number is not palindrome\n"
     ]
    }
   ],
   "source": [
    "def palindrome(number):\n",
    "    print(\"original number\", number)\n",
    "    original_num = number\n",
    "    \n",
    "    # reverse the given number\n",
    "    reverse_num = 0\n",
    "    while number > 0:\n",
    "        reminder = number % 10\n",
    "        reverse_num = (reverse_num * 10) + reminder\n",
    "        number = number // 10\n",
    "\n",
    "    # check numbers\n",
    "    if original_num == reverse_num:\n",
    "        print(\"Given number palindrome\")\n",
    "    else:\n",
    "        print(\"Given number is not palindrome\")\n",
    "\n",
    "num = int(input(\"Enter a Number: \"))\n",
    "palindrome(num)"
   ]
  },
  {
   "cell_type": "markdown",
   "id": "8677627a",
   "metadata": {},
   "source": [
    "## Write a Program to extract each digit from an integer in the reverse order."
   ]
  },
  {
   "cell_type": "code",
   "execution_count": 3,
   "id": "351547e8",
   "metadata": {},
   "outputs": [
    {
     "name": "stdout",
     "output_type": "stream",
     "text": [
      "Given number 7536\n",
      "6 3 5 7 "
     ]
    }
   ],
   "source": [
    "number = 7536\n",
    "print(\"Given number\", number)\n",
    "while number > 0:\n",
    "    # get the last digit\n",
    "    digit = number % 10\n",
    "    # remove the last digit and repeat the loop\n",
    "    number = number // 10\n",
    "    print(digit, end=\" \")"
   ]
  },
  {
   "cell_type": "markdown",
   "id": "6b757ea6",
   "metadata": {},
   "source": [
    "## Display float number with 2 decimal places using print()"
   ]
  },
  {
   "cell_type": "code",
   "execution_count": 4,
   "id": "b80d6d47",
   "metadata": {},
   "outputs": [
    {
     "name": "stdout",
     "output_type": "stream",
     "text": [
      "458.54\n"
     ]
    }
   ],
   "source": [
    "num = 458.541315\n",
    "print('%.2f' % num)"
   ]
  },
  {
   "cell_type": "markdown",
   "id": "130309d9",
   "metadata": {},
   "source": [
    "## Accept a list of 5 float numbers as an input from the user"
   ]
  },
  {
   "cell_type": "code",
   "execution_count": 5,
   "id": "aadda9d8",
   "metadata": {},
   "outputs": [
    {
     "name": "stdout",
     "output_type": "stream",
     "text": [
      "Enter number at location 0 :\n",
      "55\n",
      "Enter number at location 1 :\n",
      "12\n",
      "Enter number at location 2 :\n",
      "12\n",
      "Enter number at location 3 :\n",
      "55\n",
      "Enter number at location 4 :\n",
      "556\n",
      "User List: [55.0, 12.0, 12.0, 55.0, 556.0]\n"
     ]
    }
   ],
   "source": [
    "numbers = []\n",
    "\n",
    "# 5 is the list size\n",
    "# run loop 5 times\n",
    "for i in range(0, 5):\n",
    "    print(\"Enter number at location\", i, \":\")\n",
    "    # accept float number from user\n",
    "    item = float(input())\n",
    "    # add it to the list\n",
    "    numbers.append(item)\n",
    "\n",
    "print(\"User List:\", numbers)"
   ]
  },
  {
   "cell_type": "markdown",
   "id": "76edf6d0",
   "metadata": {},
   "source": [
    "## Accept any three string from one input() call"
   ]
  },
  {
   "cell_type": "code",
   "execution_count": 6,
   "id": "48cb5017",
   "metadata": {},
   "outputs": [
    {
     "name": "stdout",
     "output_type": "stream",
     "text": [
      "Enter three stringebin antony pd\n",
      "Name1: ebin\n",
      "Name2: antony\n",
      "Name3: pd\n"
     ]
    }
   ],
   "source": [
    "str1, str2, str3 = input(\"Enter three string\").split()\n",
    "print('Name1:', str1)\n",
    "print('Name2:', str2)\n",
    "print('Name3:', str3)"
   ]
  },
  {
   "cell_type": "markdown",
   "id": "4ed18f56",
   "metadata": {},
   "source": [
    "## Display Fibonacci series up to 10 terms"
   ]
  },
  {
   "cell_type": "code",
   "execution_count": 7,
   "id": "f0856ebb",
   "metadata": {},
   "outputs": [
    {
     "name": "stdout",
     "output_type": "stream",
     "text": [
      "Fibonacci sequence:\n",
      "0  1  1  2  3  5  8  13  21  34  "
     ]
    }
   ],
   "source": [
    "# first two numbers\n",
    "num1, num2 = 0, 1\n",
    "\n",
    "print(\"Fibonacci sequence:\")\n",
    "# run loop 10 times\n",
    "for i in range(10):\n",
    "    # print next number of a series\n",
    "    print(num1, end=\"  \")\n",
    "    # add last two numbers to get next number\n",
    "    res = num1 + num2\n",
    "\n",
    "    # update values\n",
    "    num1 = num2\n",
    "    num2 = res"
   ]
  },
  {
   "cell_type": "markdown",
   "id": "abc13be2",
   "metadata": {},
   "source": [
    "## Find the factorial of a given number"
   ]
  },
  {
   "cell_type": "code",
   "execution_count": 8,
   "id": "c56e78fe",
   "metadata": {},
   "outputs": [
    {
     "name": "stdout",
     "output_type": "stream",
     "text": [
      "The factorial of 5 is 120\n"
     ]
    }
   ],
   "source": [
    "num = 5\n",
    "factorial = 1\n",
    "if num < 0:\n",
    "    print(\"Factorial does not exist for negative numbers\")\n",
    "elif num == 0:\n",
    "    print(\"The factorial of 0 is 1\")\n",
    "else:\n",
    "    # run loop 5 times\n",
    "    for i in range(1, num + 1):\n",
    "        # multiply factorial by current number\n",
    "        factorial = factorial * i\n",
    "    print(\"The factorial of\", num, \"is\", factorial)"
   ]
  },
  {
   "cell_type": "markdown",
   "id": "ce5b8f37",
   "metadata": {},
   "source": [
    "## Calculate the cube of all numbers from 1 to a given number"
   ]
  },
  {
   "cell_type": "code",
   "execution_count": 9,
   "id": "4d5de16c",
   "metadata": {},
   "outputs": [
    {
     "name": "stdout",
     "output_type": "stream",
     "text": [
      "Current Number is : 1  and the cube is 1\n",
      "Current Number is : 2  and the cube is 8\n",
      "Current Number is : 3  and the cube is 27\n",
      "Current Number is : 4  and the cube is 64\n",
      "Current Number is : 5  and the cube is 125\n",
      "Current Number is : 6  and the cube is 216\n"
     ]
    }
   ],
   "source": [
    "input_number = 6\n",
    "for i in range(1, input_number + 1):\n",
    "    print(\"Current Number is :\", i, \" and the cube is\", (i * i * i))"
   ]
  },
  {
   "cell_type": "markdown",
   "id": "50f4a304",
   "metadata": {},
   "source": [
    "## Find the largest item from a given list"
   ]
  },
  {
   "cell_type": "code",
   "execution_count": 10,
   "id": "d60a4542",
   "metadata": {},
   "outputs": [
    {
     "name": "stdout",
     "output_type": "stream",
     "text": [
      "24\n"
     ]
    }
   ],
   "source": [
    "x = [4, 6, 8, 24, 12, 2]\n",
    "print(max(x))"
   ]
  },
  {
   "cell_type": "markdown",
   "id": "8ea94d50",
   "metadata": {},
   "source": [
    "## Create a string made of the first, middle and last character"
   ]
  },
  {
   "cell_type": "code",
   "execution_count": 11,
   "id": "f6d66192",
   "metadata": {},
   "outputs": [
    {
     "name": "stdout",
     "output_type": "stream",
     "text": [
      "Original String is James\n",
      "New String: Jms\n"
     ]
    }
   ],
   "source": [
    "str1 = 'James'\n",
    "print(\"Original String is\", str1)\n",
    "# Get first character\n",
    "res = str1[0]\n",
    "# Get string size\n",
    "l = len(str1)\n",
    "# Get middle index number\n",
    "mi = int(l / 2)\n",
    "# Get middle character and add it to result\n",
    "res = res + str1[mi]\n",
    "# Get last character and add it to result\n",
    "res = res + str1[- 1]\n",
    "print(\"New String:\", res)"
   ]
  },
  {
   "cell_type": "markdown",
   "id": "814cf10d",
   "metadata": {},
   "source": [
    "## Create a string made of the middle three characters"
   ]
  },
  {
   "cell_type": "code",
   "execution_count": 12,
   "id": "e185618c",
   "metadata": {},
   "outputs": [
    {
     "name": "stdout",
     "output_type": "stream",
     "text": [
      "Enter Stringebin\n",
      "Original String is ebin\n",
      "Middle three chars are: bin\n"
     ]
    }
   ],
   "source": [
    "def get_middle_three_chars(str1):\n",
    "    print(\"Original String is\", str1)\n",
    "\n",
    "    # first get middle index number\n",
    "    mi = int(len(str1) / 2)\n",
    "\n",
    "    # use string slicing to get result characters\n",
    "    res = str1[mi - 1:mi + 2]\n",
    "    print(\"Middle three chars are:\", res)\n",
    "    \n",
    "str1 = str(input(\"Enter String\"))\n",
    "\n",
    "get_middle_three_chars(str1)"
   ]
  },
  {
   "cell_type": "markdown",
   "id": "aa29dc3c",
   "metadata": {},
   "source": [
    "## Count all letters, digits, and special symbols from a given string"
   ]
  },
  {
   "cell_type": "code",
   "execution_count": 13,
   "id": "99ce2e9a",
   "metadata": {},
   "outputs": [
    {
     "name": "stdout",
     "output_type": "stream",
     "text": [
      "Original Strings are Ault Kelly\n",
      "After appending new string in middle: AuKellylt\n"
     ]
    }
   ],
   "source": [
    "def append_middle(s1, s2):\n",
    "    print(\"Original Strings are\", s1, s2)\n",
    "\n",
    "    # middle index number of s1\n",
    "    mi = int(len(s1) / 2)\n",
    "\n",
    "    # get character from 0 to the middle index number from s1\n",
    "    x = s1[:mi:]\n",
    "    # concatenate s2 to it\n",
    "    x = x + s2\n",
    "    # append remaining character from s1\n",
    "    x = x + s1[mi:]\n",
    "    print(\"After appending new string in middle:\", x)\n",
    "\n",
    "append_middle(\"Ault\", \"Kelly\")"
   ]
  },
  {
   "cell_type": "markdown",
   "id": "2325f381",
   "metadata": {},
   "source": [
    "## Reverse a given string"
   ]
  },
  {
   "cell_type": "code",
   "execution_count": 14,
   "id": "1197a031",
   "metadata": {},
   "outputs": [
    {
     "name": "stdout",
     "output_type": "stream",
     "text": [
      "Original String is: Ebin\n",
      "Reversed String is: nibE\n"
     ]
    }
   ],
   "source": [
    "str1 = \"Ebin\"\n",
    "print(\"Original String is:\", str1)\n",
    "\n",
    "str1 = str1[::-1]\n",
    "print(\"Reversed String is:\", str1)"
   ]
  },
  {
   "cell_type": "code",
   "execution_count": 15,
   "id": "37642976",
   "metadata": {},
   "outputs": [
    {
     "name": "stdout",
     "output_type": "stream",
     "text": [
      "Original String is: Ebin\n",
      "Reversed String is: nibE\n"
     ]
    }
   ],
   "source": [
    "str1 = \"Ebin\"\n",
    "print(\"Original String is:\", str1)\n",
    "\n",
    "str1 = ''.join(reversed(str1))\n",
    "print(\"Reversed String is:\", str1)"
   ]
  },
  {
   "cell_type": "markdown",
   "id": "ca941910",
   "metadata": {},
   "source": [
    "## Split a string on hyphens"
   ]
  },
  {
   "cell_type": "code",
   "execution_count": 16,
   "id": "6acf5b9e",
   "metadata": {},
   "outputs": [
    {
     "name": "stdout",
     "output_type": "stream",
     "text": [
      "Original String is: Emma-is-a-data-scientist\n",
      "Displaying each substring\n",
      "Emma\n",
      "is\n",
      "a\n",
      "data\n",
      "scientist\n"
     ]
    }
   ],
   "source": [
    "str1 = \"Emma-is-a-data-scientist\"\n",
    "print(\"Original String is:\", str1)\n",
    "\n",
    "# split string\n",
    "sub_strings = str1.split(\"-\")\n",
    "\n",
    "print(\"Displaying each substring\")\n",
    "for sub in sub_strings:\n",
    "    print(sub)"
   ]
  },
  {
   "cell_type": "markdown",
   "id": "e89f52e8",
   "metadata": {},
   "source": [
    "## Remove empty strings from a list of strings"
   ]
  },
  {
   "cell_type": "code",
   "execution_count": 17,
   "id": "e1ba1117",
   "metadata": {},
   "outputs": [
    {
     "name": "stdout",
     "output_type": "stream",
     "text": [
      "['Emma', 'Jon', 'Kelly', 'Eric']\n"
     ]
    }
   ],
   "source": [
    "str_list = [\"Emma\", \"Jon\", \"\", \"Kelly\", None, \"Eric\", \"\"]\n",
    "res_list = []\n",
    "for s in str_list:\n",
    "    # check for non empty string\n",
    "    if s:\n",
    "        res_list.append(s)\n",
    "print(res_list)"
   ]
  },
  {
   "cell_type": "code",
   "execution_count": 18,
   "id": "c160c15e",
   "metadata": {},
   "outputs": [
    {
     "name": "stdout",
     "output_type": "stream",
     "text": [
      "After removing empty strings\n",
      "['Emma', 'Jon', 'Kelly', 'Eric']\n"
     ]
    }
   ],
   "source": [
    "str_list = [\"Emma\", \"Jon\", \"\", \"Kelly\", None, \"Eric\", \"\"]\n",
    "\n",
    "# use built-in function filter to filter empty value\n",
    "new_str_list = list(filter(None, str_list))\n",
    "\n",
    "print(\"After removing empty strings\")\n",
    "print(new_str_list)"
   ]
  },
  {
   "cell_type": "code",
   "execution_count": 19,
   "id": "1f835a4a",
   "metadata": {},
   "outputs": [
    {
     "name": "stdout",
     "output_type": "stream",
     "text": [
      "Original string is  /*Jon is @developer & musician\n",
      "New string is  Jon is developer  musician\n"
     ]
    }
   ],
   "source": [
    "import re # Regex Replace Pattern in a string using re.sub()\n",
    "\n",
    "str1 = \"/*Jon is @developer & musician\"\n",
    "print(\"Original string is \", str1)\n",
    "\n",
    "# replace special symbols with ''\n",
    "res = re.sub(r'[^\\w\\s]', '', str1)\n",
    "print(\"New string is \", res)"
   ]
  },
  {
   "cell_type": "markdown",
   "id": "ac32122c",
   "metadata": {},
   "source": [
    "## Remove and add item in a list"
   ]
  },
  {
   "cell_type": "code",
   "execution_count": 20,
   "id": "15ca1eb0",
   "metadata": {},
   "outputs": [
    {
     "name": "stdout",
     "output_type": "stream",
     "text": [
      "Original list  [34, 54, 67, 89, 11, 43, 94]\n",
      "List After removing element at index 4  [34, 54, 67, 89, 43, 94]\n",
      "List after Adding element at index 2  [34, 54, 11, 67, 89, 43, 94]\n",
      "List after Adding element at last  [34, 54, 11, 67, 89, 43, 94, 11]\n"
     ]
    }
   ],
   "source": [
    "sample_list = [34, 54, 67, 89, 11, 43, 94]\n",
    "\n",
    "print(\"Original list \", sample_list)\n",
    "element = sample_list.pop(4)\n",
    "print(\"List After removing element at index 4 \", sample_list)\n",
    "\n",
    "sample_list.insert(2, element)\n",
    "print(\"List after Adding element at index 2 \", sample_list)\n",
    "\n",
    "sample_list.append(element)\n",
    "print(\"List after Adding element at last \", sample_list)"
   ]
  },
  {
   "cell_type": "markdown",
   "id": "69e904c5",
   "metadata": {},
   "source": [
    "## Slice list into 3 equal chunks"
   ]
  },
  {
   "cell_type": "code",
   "execution_count": 21,
   "id": "658e9783",
   "metadata": {},
   "outputs": [
    {
     "name": "stdout",
     "output_type": "stream",
     "text": [
      "Original list  [11, 45, 8, 23, 14, 12, 78, 45, 89]\n",
      "Chunk  0 [11, 45, 8]\n",
      "Chunk  1 [23, 14, 12]\n",
      "Chunk  2 [78, 45, 89]\n"
     ]
    }
   ],
   "source": [
    "sample_list = [11, 45, 8, 23, 14, 12, 78, 45, 89]\n",
    "print(\"Original list \", sample_list)\n",
    "\n",
    "length = len(sample_list)\n",
    "chunk_size = int(length / 3)\n",
    "start = 0\n",
    "end = chunk_size\n",
    "\n",
    "# run loop 3 times\n",
    "for i in range(3):\n",
    "    # get indexes\n",
    "    indexes = slice(start, end)\n",
    "    \n",
    "    # get chunk\n",
    "    list_chunk = sample_list[indexes]\n",
    "    print(\"Chunk \", i, list_chunk)\n",
    "    \n",
    "    start = end\n",
    "    end += chunk_size"
   ]
  },
  {
   "cell_type": "markdown",
   "id": "6766df81",
   "metadata": {},
   "source": [
    "## Create a Python set such that it shows the element from both lists in a pair"
   ]
  },
  {
   "cell_type": "code",
   "execution_count": 22,
   "id": "f74bf567",
   "metadata": {},
   "outputs": [
    {
     "name": "stdout",
     "output_type": "stream",
     "text": [
      "First List  [2, 3, 4, 5, 6, 7, 8]\n",
      "Second List  [4, 9, 16, 25, 36, 49, 64]\n",
      "{(7, 49), (2, 4), (4, 16), (8, 64), (6, 36), (3, 9), (5, 25)}\n"
     ]
    }
   ],
   "source": [
    "first_list = [2, 3, 4, 5, 6, 7, 8]\n",
    "print(\"First List \", first_list)\n",
    "\n",
    "second_list = [4, 9, 16, 25, 36, 49, 64]\n",
    "print(\"Second List \", second_list)\n",
    "\n",
    "result = zip(first_list, second_list)\n",
    "result_set = set(result)\n",
    "print(result_set)"
   ]
  },
  {
   "cell_type": "markdown",
   "id": "f6c1d61e",
   "metadata": {},
   "source": [
    "## Find the intersection (common) of two sets and remove those elements from the first set"
   ]
  },
  {
   "cell_type": "code",
   "execution_count": 23,
   "id": "7aa98888",
   "metadata": {},
   "outputs": [
    {
     "name": "stdout",
     "output_type": "stream",
     "text": [
      "First Set  {65, 42, 78, 83, 23, 57, 29}\n",
      "Second Set  {67, 73, 43, 48, 83, 57, 29}\n",
      "Intersection is  {57, 83, 29}\n",
      "First Set after removing common element  {65, 42, 78, 23}\n"
     ]
    }
   ],
   "source": [
    "first_set = {23, 42, 65, 57, 78, 83, 29}\n",
    "second_set = {57, 83, 29, 67, 73, 43, 48}\n",
    "\n",
    "print(\"First Set \", first_set)\n",
    "print(\"Second Set \", second_set)\n",
    "\n",
    "intersection = first_set.intersection(second_set)\n",
    "print(\"Intersection is \", intersection)\n",
    "for item in intersection:\n",
    "    first_set.remove(item)\n",
    "\n",
    "print(\"First Set after removing common element \", first_set)"
   ]
  },
  {
   "cell_type": "code",
   "execution_count": null,
   "id": "22ca762c",
   "metadata": {},
   "outputs": [],
   "source": []
  }
 ],
 "metadata": {
  "kernelspec": {
   "display_name": "Python 3",
   "language": "python",
   "name": "python3"
  },
  "language_info": {
   "codemirror_mode": {
    "name": "ipython",
    "version": 3
   },
   "file_extension": ".py",
   "mimetype": "text/x-python",
   "name": "python",
   "nbconvert_exporter": "python",
   "pygments_lexer": "ipython3",
   "version": "3.8.8"
  }
 },
 "nbformat": 4,
 "nbformat_minor": 5
}
